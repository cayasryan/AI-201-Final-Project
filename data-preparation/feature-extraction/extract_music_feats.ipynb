{
 "cells": [
  {
   "cell_type": "markdown",
   "metadata": {},
   "source": [
    "We perform PCA to extract features for modeling"
   ]
  },
  {
   "cell_type": "code",
   "execution_count": 1,
   "metadata": {},
   "outputs": [],
   "source": [
    "import pandas as pd\n",
    "import numpy as np"
   ]
  },
  {
   "cell_type": "code",
   "execution_count": 2,
   "metadata": {},
   "outputs": [],
   "source": [
    "## Data File Path\n",
    "FEATURES_PARQUET  = '../../data/features/featuresv3_w_tagclusters.parquet'"
   ]
  },
  {
   "cell_type": "code",
   "execution_count": 3,
   "metadata": {},
   "outputs": [
    {
     "data": {
      "text/html": [
       "<div>\n",
       "<style scoped>\n",
       "    .dataframe tbody tr th:only-of-type {\n",
       "        vertical-align: middle;\n",
       "    }\n",
       "\n",
       "    .dataframe tbody tr th {\n",
       "        vertical-align: top;\n",
       "    }\n",
       "\n",
       "    .dataframe thead tr th {\n",
       "        text-align: left;\n",
       "    }\n",
       "</style>\n",
       "<table border=\"1\" class=\"dataframe\">\n",
       "  <thead>\n",
       "    <tr>\n",
       "      <th></th>\n",
       "      <th>track_id</th>\n",
       "      <th colspan=\"8\" halign=\"left\">audio_features</th>\n",
       "      <th>metadata</th>\n",
       "      <th>...</th>\n",
       "      <th colspan=\"10\" halign=\"left\">track</th>\n",
       "    </tr>\n",
       "    <tr>\n",
       "      <th></th>\n",
       "      <th></th>\n",
       "      <th>acousticness</th>\n",
       "      <th>danceability</th>\n",
       "      <th>energy</th>\n",
       "      <th>instrumentalness</th>\n",
       "      <th>liveness</th>\n",
       "      <th>speechiness</th>\n",
       "      <th>tempo</th>\n",
       "      <th>valence</th>\n",
       "      <th>album_date</th>\n",
       "      <th>...</th>\n",
       "      <th>listens</th>\n",
       "      <th>lyricist</th>\n",
       "      <th>number</th>\n",
       "      <th>publisher</th>\n",
       "      <th>tags</th>\n",
       "      <th>title</th>\n",
       "      <th>tid</th>\n",
       "      <th>artist</th>\n",
       "      <th>tag</th>\n",
       "      <th>tag_cluster</th>\n",
       "    </tr>\n",
       "  </thead>\n",
       "  <tbody>\n",
       "    <tr>\n",
       "      <th>151</th>\n",
       "      <td>10</td>\n",
       "      <td>0.951670</td>\n",
       "      <td>0.658179</td>\n",
       "      <td>0.924525</td>\n",
       "      <td>0.965427</td>\n",
       "      <td>0.115474</td>\n",
       "      <td>0.032985</td>\n",
       "      <td>111.562</td>\n",
       "      <td>0.963590</td>\n",
       "      <td>2008-03-11</td>\n",
       "      <td>...</td>\n",
       "      <td>50135</td>\n",
       "      <td>None</td>\n",
       "      <td>1</td>\n",
       "      <td>None</td>\n",
       "      <td>[]</td>\n",
       "      <td>Freeway</td>\n",
       "      <td>TRWSAJE128F423A6A6</td>\n",
       "      <td>Aimee Mann</td>\n",
       "      <td>work</td>\n",
       "      <td>6</td>\n",
       "    </tr>\n",
       "    <tr>\n",
       "      <th>1149</th>\n",
       "      <td>201</td>\n",
       "      <td>0.991813</td>\n",
       "      <td>0.461855</td>\n",
       "      <td>0.543751</td>\n",
       "      <td>0.964922</td>\n",
       "      <td>0.137006</td>\n",
       "      <td>0.025688</td>\n",
       "      <td>93.945</td>\n",
       "      <td>0.758632</td>\n",
       "      <td>None</td>\n",
       "      <td>...</td>\n",
       "      <td>150</td>\n",
       "      <td>None</td>\n",
       "      <td>7</td>\n",
       "      <td>None</td>\n",
       "      <td>[]</td>\n",
       "      <td>Big City</td>\n",
       "      <td>TRDLTSA128F92DEE38</td>\n",
       "      <td>Sandra Nasic</td>\n",
       "      <td>Driving</td>\n",
       "      <td>5</td>\n",
       "    </tr>\n",
       "    <tr>\n",
       "      <th>1183</th>\n",
       "      <td>201</td>\n",
       "      <td>0.991813</td>\n",
       "      <td>0.461855</td>\n",
       "      <td>0.543751</td>\n",
       "      <td>0.964922</td>\n",
       "      <td>0.137006</td>\n",
       "      <td>0.025688</td>\n",
       "      <td>93.945</td>\n",
       "      <td>0.758632</td>\n",
       "      <td>None</td>\n",
       "      <td>...</td>\n",
       "      <td>150</td>\n",
       "      <td>None</td>\n",
       "      <td>7</td>\n",
       "      <td>None</td>\n",
       "      <td>[]</td>\n",
       "      <td>Big City</td>\n",
       "      <td>TRLXJOY12903CD442D</td>\n",
       "      <td>My Superhero</td>\n",
       "      <td>driving music</td>\n",
       "      <td>5</td>\n",
       "    </tr>\n",
       "    <tr>\n",
       "      <th>1933</th>\n",
       "      <td>326</td>\n",
       "      <td>0.933332</td>\n",
       "      <td>0.614193</td>\n",
       "      <td>0.711231</td>\n",
       "      <td>0.844747</td>\n",
       "      <td>0.154400</td>\n",
       "      <td>0.579897</td>\n",
       "      <td>197.924</td>\n",
       "      <td>0.380920</td>\n",
       "      <td>None</td>\n",
       "      <td>...</td>\n",
       "      <td>228</td>\n",
       "      <td>None</td>\n",
       "      <td>13</td>\n",
       "      <td>None</td>\n",
       "      <td>[]</td>\n",
       "      <td>Burn</td>\n",
       "      <td>TRIIWSF128F4292E8F</td>\n",
       "      <td>Three Days Grace</td>\n",
       "      <td>Workout</td>\n",
       "      <td>4</td>\n",
       "    </tr>\n",
       "    <tr>\n",
       "      <th>3019</th>\n",
       "      <td>36123</td>\n",
       "      <td>0.409308</td>\n",
       "      <td>0.522376</td>\n",
       "      <td>0.386905</td>\n",
       "      <td>0.910398</td>\n",
       "      <td>0.117528</td>\n",
       "      <td>0.097336</td>\n",
       "      <td>114.541</td>\n",
       "      <td>0.713353</td>\n",
       "      <td>2009</td>\n",
       "      <td>...</td>\n",
       "      <td>415</td>\n",
       "      <td>None</td>\n",
       "      <td>2</td>\n",
       "      <td>None</td>\n",
       "      <td>[]</td>\n",
       "      <td>Burn</td>\n",
       "      <td>TRIIWSF128F4292E8F</td>\n",
       "      <td>Three Days Grace</td>\n",
       "      <td>Workout</td>\n",
       "      <td>4</td>\n",
       "    </tr>\n",
       "  </tbody>\n",
       "</table>\n",
       "<p>5 rows × 306 columns</p>\n",
       "</div>"
      ],
      "text/plain": [
       "     track_id audio_features                                           \n",
       "                acousticness danceability    energy instrumentalness   \n",
       "151        10       0.951670     0.658179  0.924525         0.965427  \\\n",
       "1149      201       0.991813     0.461855  0.543751         0.964922   \n",
       "1183      201       0.991813     0.461855  0.543751         0.964922   \n",
       "1933      326       0.933332     0.614193  0.711231         0.844747   \n",
       "3019    36123       0.409308     0.522376  0.386905         0.910398   \n",
       "\n",
       "                                                 metadata  ...   track   \n",
       "      liveness speechiness    tempo   valence  album_date  ... listens   \n",
       "151   0.115474    0.032985  111.562  0.963590  2008-03-11  ...   50135  \\\n",
       "1149  0.137006    0.025688   93.945  0.758632        None  ...     150   \n",
       "1183  0.137006    0.025688   93.945  0.758632        None  ...     150   \n",
       "1933  0.154400    0.579897  197.924  0.380920        None  ...     228   \n",
       "3019  0.117528    0.097336  114.541  0.713353        2009  ...     415   \n",
       "\n",
       "                                                                    \n",
       "     lyricist number publisher tags     title                 tid   \n",
       "151      None      1      None   []   Freeway  TRWSAJE128F423A6A6  \\\n",
       "1149     None      7      None   []  Big City  TRDLTSA128F92DEE38   \n",
       "1183     None      7      None   []  Big City  TRLXJOY12903CD442D   \n",
       "1933     None     13      None   []      Burn  TRIIWSF128F4292E8F   \n",
       "3019     None      2      None   []      Burn  TRIIWSF128F4292E8F   \n",
       "\n",
       "                                                   \n",
       "                artist            tag tag_cluster  \n",
       "151         Aimee Mann           work           6  \n",
       "1149      Sandra Nasic        Driving           5  \n",
       "1183      My Superhero  driving music           5  \n",
       "1933  Three Days Grace        Workout           4  \n",
       "3019  Three Days Grace        Workout           4  \n",
       "\n",
       "[5 rows x 306 columns]"
      ]
     },
     "execution_count": 3,
     "metadata": {},
     "output_type": "execute_result"
    }
   ],
   "source": [
    "features = pd.read_parquet(FEATURES_PARQUET)\n",
    "features.head()"
   ]
  },
  {
   "cell_type": "code",
   "execution_count": 4,
   "metadata": {},
   "outputs": [
    {
     "data": {
      "text/plain": [
       "(910, 306)"
      ]
     },
     "execution_count": 4,
     "metadata": {},
     "output_type": "execute_result"
    }
   ],
   "source": [
    "features.shape"
   ]
  },
  {
   "cell_type": "code",
   "execution_count": 7,
   "metadata": {},
   "outputs": [
    {
     "data": {
      "text/plain": [
       "Index(['album', 'artist', 'audio_features', 'metadata', 'ranks', 'set',\n",
       "       'social_features', 'temporal_features', 'track', 'track_id'],\n",
       "      dtype='object')"
      ]
     },
     "execution_count": 7,
     "metadata": {},
     "output_type": "execute_result"
    }
   ],
   "source": [
    "features.columns.levels[0]"
   ]
  },
  {
   "cell_type": "code",
   "execution_count": 8,
   "metadata": {},
   "outputs": [
    {
     "data": {
      "text/plain": [
       "Index(['comments', 'date_created', 'date_released', 'engineer', 'favorites',\n",
       "       'id', 'information', 'listens', 'producer', 'tags', 'title', 'tracks',\n",
       "       'type'],\n",
       "      dtype='object')"
      ]
     },
     "execution_count": 8,
     "metadata": {},
     "output_type": "execute_result"
    }
   ],
   "source": [
    "features.album.columns"
   ]
  }
 ],
 "metadata": {
  "kernelspec": {
   "display_name": "Python 3",
   "language": "python",
   "name": "python3"
  },
  "language_info": {
   "codemirror_mode": {
    "name": "ipython",
    "version": 3
   },
   "file_extension": ".py",
   "mimetype": "text/x-python",
   "name": "python",
   "nbconvert_exporter": "python",
   "pygments_lexer": "ipython3",
   "version": "3.11.2"
  }
 },
 "nbformat": 4,
 "nbformat_minor": 2
}
