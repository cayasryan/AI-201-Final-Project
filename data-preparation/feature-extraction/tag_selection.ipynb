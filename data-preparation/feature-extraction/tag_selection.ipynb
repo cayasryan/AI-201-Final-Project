{
 "cells": [
  {
   "cell_type": "code",
   "execution_count": 2,
   "metadata": {},
   "outputs": [],
   "source": [
    "import pandas as pd\n",
    "import numpy as np"
   ]
  },
  {
   "cell_type": "code",
   "execution_count": 3,
   "metadata": {},
   "outputs": [],
   "source": [
    "## Data File Path\n",
    "FEATURES_PARQUET  = '../../data/features/featuresv2.parquet'"
   ]
  },
  {
   "cell_type": "code",
   "execution_count": 185,
   "metadata": {},
   "outputs": [
    {
     "data": {
      "text/plain": [
       "(578618, 305)"
      ]
     },
     "execution_count": 185,
     "metadata": {},
     "output_type": "execute_result"
    }
   ],
   "source": [
    "features = pd.read_parquet(FEATURES_PARQUET)\n",
    "features.shape"
   ]
  },
  {
   "cell_type": "code",
   "execution_count": 5,
   "metadata": {},
   "outputs": [
    {
     "data": {
      "text/plain": [
       "MultiIndex([(      'track_id',                 ''),\n",
       "            ('audio_features',     'acousticness'),\n",
       "            ('audio_features',     'danceability'),\n",
       "            ('audio_features',           'energy'),\n",
       "            ('audio_features', 'instrumentalness'),\n",
       "            ('audio_features',         'liveness'),\n",
       "            ('audio_features',      'speechiness'),\n",
       "            ('audio_features',            'tempo'),\n",
       "            ('audio_features',          'valence'),\n",
       "            (      'metadata',       'album_date'),\n",
       "            ...\n",
       "            (         'track',          'license'),\n",
       "            (         'track',          'listens'),\n",
       "            (         'track',         'lyricist'),\n",
       "            (         'track',           'number'),\n",
       "            (         'track',        'publisher'),\n",
       "            (         'track',             'tags'),\n",
       "            (         'track',            'title'),\n",
       "            (         'track',              'tid'),\n",
       "            (         'track',           'artist'),\n",
       "            (         'track',              'tag')],\n",
       "           length=305)"
      ]
     },
     "execution_count": 5,
     "metadata": {},
     "output_type": "execute_result"
    }
   ],
   "source": [
    "features.columns"
   ]
  },
  {
   "cell_type": "code",
   "execution_count": 6,
   "metadata": {},
   "outputs": [
    {
     "data": {
      "text/plain": [
       "Index(['album', 'artist', 'audio_features', 'metadata', 'ranks', 'set',\n",
       "       'social_features', 'temporal_features', 'track', 'track_id'],\n",
       "      dtype='object')"
      ]
     },
     "execution_count": 6,
     "metadata": {},
     "output_type": "execute_result"
    }
   ],
   "source": [
    "features.columns.levels[0]"
   ]
  },
  {
   "cell_type": "markdown",
   "metadata": {},
   "source": [
    "# Physical Activities\n",
    "\n",
    "We need to select the relevant tags for these physical activities:\n",
    "\n",
    "1 – lying \\\n",
    "2 – sitting \\\n",
    "3 – standing \\\n",
    "4 – walking \\\n",
    "5 – running \\\n",
    "6 – cycling \\\n",
    "7 – Nordic walking \\\n",
    "9 – watching TV \\\n",
    "10 – computer work \\\n",
    "11 – car driving \\\n",
    "12 – ascending stairs \\\n",
    "13 – descending stairs \\\n",
    "16 – vacuum cleaning \\\n",
    "17 – ironing \\\n",
    "18 – folding laundry \\\n",
    "19 – house cleaning \\\n",
    "20 – playing soccer \\\n",
    "24 – rope jumping"
   ]
  },
  {
   "cell_type": "markdown",
   "metadata": {},
   "source": [
    "Some of these activities require the same energy level and mental demand so music recommendation can be the same for some activities. A possible clustering could be:\n",
    "\n",
    "CAN POSSIBLY MAKE A CLUSTERING ALGO FOR THE DATA\n",
    "\n",
    "Cluster 1: Relaxing Activities\n",
    "\n",
    "lying \\\n",
    "sitting \\\n",
    "watching TV (doesn't need a music recommendation anymore)\n",
    "\n",
    "Cluster 2: Light Physical Activity with Low Mental Demand\n",
    "\n",
    "standing \\\n",
    "walking \\\n",
    "Nordic walking \\\n",
    "ascending stairs \\\n",
    "descending stairs\n",
    "\n",
    "Cluster 3: Light Activity with Moderate Mental Demand (Chores)\n",
    "\n",
    "vacuum cleaning \\\n",
    "ironing \\\n",
    "folding laundry \\\n",
    "house cleaning\n",
    "\n",
    "Cluster 4: Moderate to Vigorous Physical Activity with Moderate Mental Demand (Exercise)\n",
    "\n",
    "playing soccer \\\n",
    "cycling \\\n",
    "running \\\n",
    "rope jumping\n",
    "\n",
    "Cluster 5: Moderately Focused Mental Work\n",
    "\n",
    "car driving\n",
    "\n",
    "\n",
    "Cluster 6: Focused Mental Work\n",
    "\n",
    "computer work\n"
   ]
  },
  {
   "cell_type": "markdown",
   "metadata": {},
   "source": [
    "# Tag Selection\n",
    "\n",
    "Now we aim to identify the relevant tags"
   ]
  },
  {
   "cell_type": "code",
   "execution_count": 7,
   "metadata": {},
   "outputs": [
    {
     "data": {
      "text/html": [
       "<div>\n",
       "<style scoped>\n",
       "    .dataframe tbody tr th:only-of-type {\n",
       "        vertical-align: middle;\n",
       "    }\n",
       "\n",
       "    .dataframe tbody tr th {\n",
       "        vertical-align: top;\n",
       "    }\n",
       "\n",
       "    .dataframe thead th {\n",
       "        text-align: right;\n",
       "    }\n",
       "</style>\n",
       "<table border=\"1\" class=\"dataframe\">\n",
       "  <thead>\n",
       "    <tr style=\"text-align: right;\">\n",
       "      <th></th>\n",
       "      <th>tag</th>\n",
       "      <th>count</th>\n",
       "    </tr>\n",
       "  </thead>\n",
       "  <tbody>\n",
       "    <tr>\n",
       "      <th>0</th>\n",
       "      <td>rock</td>\n",
       "      <td>6643</td>\n",
       "    </tr>\n",
       "    <tr>\n",
       "      <th>1</th>\n",
       "      <td>pop</td>\n",
       "      <td>4741</td>\n",
       "    </tr>\n",
       "    <tr>\n",
       "      <th>2</th>\n",
       "      <td>alternative</td>\n",
       "      <td>4179</td>\n",
       "    </tr>\n",
       "    <tr>\n",
       "      <th>3</th>\n",
       "      <td>electronic</td>\n",
       "      <td>3511</td>\n",
       "    </tr>\n",
       "    <tr>\n",
       "      <th>4</th>\n",
       "      <td>indie</td>\n",
       "      <td>3168</td>\n",
       "    </tr>\n",
       "    <tr>\n",
       "      <th>...</th>\n",
       "      <td>...</td>\n",
       "      <td>...</td>\n",
       "    </tr>\n",
       "    <tr>\n",
       "      <th>70534</th>\n",
       "      <td>StudyMusic</td>\n",
       "      <td>1</td>\n",
       "    </tr>\n",
       "    <tr>\n",
       "      <th>70535</th>\n",
       "      <td>malcolm</td>\n",
       "      <td>1</td>\n",
       "    </tr>\n",
       "    <tr>\n",
       "      <th>70536</th>\n",
       "      <td>lifehouse storm</td>\n",
       "      <td>1</td>\n",
       "    </tr>\n",
       "    <tr>\n",
       "      <th>70537</th>\n",
       "      <td>calmative</td>\n",
       "      <td>1</td>\n",
       "    </tr>\n",
       "    <tr>\n",
       "      <th>70538</th>\n",
       "      <td>moving out</td>\n",
       "      <td>1</td>\n",
       "    </tr>\n",
       "  </tbody>\n",
       "</table>\n",
       "<p>70539 rows × 2 columns</p>\n",
       "</div>"
      ],
      "text/plain": [
       "                   tag  count\n",
       "0                 rock   6643\n",
       "1                  pop   4741\n",
       "2          alternative   4179\n",
       "3           electronic   3511\n",
       "4                indie   3168\n",
       "...                ...    ...\n",
       "70534       StudyMusic      1\n",
       "70535          malcolm      1\n",
       "70536  lifehouse storm      1\n",
       "70537        calmative      1\n",
       "70538       moving out      1\n",
       "\n",
       "[70539 rows x 2 columns]"
      ]
     },
     "execution_count": 7,
     "metadata": {},
     "output_type": "execute_result"
    }
   ],
   "source": [
    "unique_tags = features.track.tag.value_counts().reset_index().rename(columns={\"index\": \"value\", 0: \"count\"})\n",
    "unique_tags"
   ]
  },
  {
   "cell_type": "markdown",
   "metadata": {},
   "source": [
    "## Relaxing Activities"
   ]
  },
  {
   "cell_type": "code",
   "execution_count": 117,
   "metadata": {},
   "outputs": [
    {
     "name": "stdout",
     "output_type": "stream",
     "text": [
      "7103\n",
      "861\n"
     ]
    },
    {
     "data": {
      "text/plain": [
       "tag\n",
       "chillout                   2364\n",
       "chill                      1849\n",
       "relaxing                    721\n",
       "chill out                   341\n",
       "chilled                     222\n",
       "                           ... \n",
       "relaxing calm and fresh       1\n",
       "chillout dnb                  1\n",
       "Chill Out Sinistro            1\n",
       "chill aout                    1\n",
       "chillout seen live            1\n",
       "Name: count, Length: 273, dtype: int64"
      ]
     },
     "execution_count": 117,
     "metadata": {},
     "output_type": "execute_result"
    }
   ],
   "source": [
    "tag = \"lying|sitting|relaxing|chill\"\n",
    "mask = features.track.tag.str.match(tag,case=False)\n",
    "relaxing_titles = features[mask]\n",
    "print(relaxing_titles.shape[0])\n",
    "print(len(relaxing_titles.track.title.unique()))\n",
    "relaxing_titles.track.tag.value_counts()"
   ]
  },
  {
   "cell_type": "markdown",
   "metadata": {},
   "source": [
    "## Light Activities"
   ]
  },
  {
   "cell_type": "code",
   "execution_count": 170,
   "metadata": {},
   "outputs": [
    {
     "name": "stdout",
     "output_type": "stream",
     "text": [
      "84\n",
      "40\n"
     ]
    },
    {
     "data": {
      "text/plain": [
       "tag\n",
       "walkman music                                           11\n",
       "Walking down the street smilin                           8\n",
       "Walking tunes                                            7\n",
       "walking to                                               6\n",
       "Walking in the streets                                   5\n",
       "walk on                                                  4\n",
       "walker                                                   4\n",
       "walk on the wild side                                    4\n",
       "Walkabout                                                4\n",
       "walking blues                                            4\n",
       "walking                                                  3\n",
       "walking songs                                            3\n",
       "walking home alone                                       2\n",
       "walk through the stars                                   2\n",
       "walking song                                             2\n",
       "standing tone                                            2\n",
       "walking the streets at night with your headphones on     2\n",
       "standing at the beach                                    2\n",
       "Walk The Line Soundtrack                                 1\n",
       "Walk the Line                                            1\n",
       "Walking on Sunshine                                      1\n",
       "walk on - John Hiatt                                     1\n",
       "walking through rain                                     1\n",
       "walking away                                             1\n",
       "walking to the east river on a cloudy day                1\n",
       "walkin                                                   1\n",
       "walk way                                                 1\n",
       "Name: count, dtype: int64"
      ]
     },
     "execution_count": 170,
     "metadata": {},
     "output_type": "execute_result"
    }
   ],
   "source": [
    "tag = \"standing|walking|walk|^stand$\"\n",
    "mask = features.track.tag.str.match(tag,case=False)\n",
    "light_acts_titles = features[mask]\n",
    "print(light_acts_titles.shape[0])\n",
    "print(len(light_acts_titles.track.title.unique()))\n",
    "light_acts_titles.track.tag.value_counts()"
   ]
  },
  {
   "cell_type": "markdown",
   "metadata": {},
   "source": [
    "## Chores"
   ]
  },
  {
   "cell_type": "code",
   "execution_count": 165,
   "metadata": {},
   "outputs": [
    {
     "name": "stdout",
     "output_type": "stream",
     "text": [
      "118\n",
      "55\n"
     ]
    },
    {
     "data": {
      "text/plain": [
       "tag\n",
       "clean                 72\n",
       "Cleaning mood         16\n",
       "cleanup soundtrack     5\n",
       "clean lyrics           5\n",
       "Houseworks             4\n",
       "Cleaning Day lol       4\n",
       "cleaning               3\n",
       "clean riffs            2\n",
       "clean vocals           2\n",
       "cleaninghouse          1\n",
       "clean vocal metal      1\n",
       "cleanE                 1\n",
       "Housework helper       1\n",
       "cleansing              1\n",
       "Name: count, dtype: int64"
      ]
     },
     "execution_count": 165,
     "metadata": {},
     "output_type": "execute_result"
    }
   ],
   "source": [
    "tag = \"cleaning|chores|housework|clean\"\n",
    "mask = features.track.tag.str.match(tag,case=False)\n",
    "chores_titles = features[mask]\n",
    "print(chores_titles.shape[0])\n",
    "print(len(chores_titles.track.title.unique()))\n",
    "chores_titles.track.tag.value_counts()"
   ]
  },
  {
   "cell_type": "markdown",
   "metadata": {},
   "source": [
    "## Exercise"
   ]
  },
  {
   "cell_type": "code",
   "execution_count": 154,
   "metadata": {},
   "outputs": [
    {
     "name": "stdout",
     "output_type": "stream",
     "text": [
      "274\n",
      "105\n"
     ]
    },
    {
     "data": {
      "text/plain": [
       "tag\n",
       "Workout                                       112\n",
       "running                                        44\n",
       "workout songs                                  11\n",
       "running eyes                                   10\n",
       "exercise                                        9\n",
       "gym                                             7\n",
       "fitness music                                   7\n",
       "Exercise muzak                                  6\n",
       "workout tunes                                   6\n",
       "workoutdance                                    6\n",
       "workout dance                                   5\n",
       "Workout music                                   5\n",
       "running down hills and dancing in the rain      5\n",
       "running out of the church                       4\n",
       "running music                                   4\n",
       "jogging                                         4\n",
       "gym music                                       3\n",
       "gymidegym                                       3\n",
       "gymicrae                                        3\n",
       "running in circles                              2\n",
       "work-out voor de haartjes op je arm             2\n",
       "workout mix                                     2\n",
       "Workout Song                                    2\n",
       "running away                                    2\n",
       "workout track                                   1\n",
       "gymn                                            1\n",
       "Running by NoDoubt                              1\n",
       "Working out                                     1\n",
       "workout trance                                  1\n",
       "Running Wild                                    1\n",
       "working out track                               1\n",
       "running with scissors                           1\n",
       "running mix                                     1\n",
       "fitness                                         1\n",
       "Name: count, dtype: int64"
      ]
     },
     "execution_count": 154,
     "metadata": {},
     "output_type": "execute_result"
    }
   ],
   "source": [
    "# only include tags with more than 10 songs: workout, running, workout songs\n",
    "tag = \"workout|running|gym|exercise|work-out|working out|exercising|jogging|fitness|cardio\"\n",
    "mask = features.track.tag.str.match(tag,case=False)\n",
    "exercise_titles = features[mask]\n",
    "print(exercise_titles.shape[0])\n",
    "print(len(exercise_titles.track.title.unique()))\n",
    "exercise_titles.track.tag.value_counts()"
   ]
  },
  {
   "cell_type": "code",
   "execution_count": 159,
   "metadata": {},
   "outputs": [
    {
     "data": {
      "text/plain": [
       "tag\n",
       "Workout          112\n",
       "running           44\n",
       "workout songs     11\n",
       "Name: count, dtype: int64"
      ]
     },
     "execution_count": 159,
     "metadata": {},
     "output_type": "execute_result"
    }
   ],
   "source": [
    "# only include tags with more than 10 songs: workout, running, workout songs\n",
    "tag = r\"^workout$|^running$|^workout songs$\"\n",
    "mask = features.track.tag.str.match(tag,case=False)\n",
    "exercise_titles = features[mask]\n",
    "exercise_titles.track.tag.value_counts()"
   ]
  },
  {
   "cell_type": "markdown",
   "metadata": {},
   "source": [
    "## Driving"
   ]
  },
  {
   "cell_type": "code",
   "execution_count": 161,
   "metadata": {},
   "outputs": [
    {
     "name": "stdout",
     "output_type": "stream",
     "text": [
      "577\n",
      "237\n"
     ]
    },
    {
     "data": {
      "text/plain": [
       "tag\n",
       "Driving                             299\n",
       "drive                                41\n",
       "driving music                        40\n",
       "roadtrip                             39\n",
       "Driving Songs                        11\n",
       "                                   ... \n",
       "driving at night in the eighties      1\n",
       "driver                                1\n",
       "driver parallel lines                 1\n",
       "driving down the interstate           1\n",
       "driving on a summer night             1\n",
       "Name: count, Length: 65, dtype: int64"
      ]
     },
     "execution_count": 161,
     "metadata": {},
     "output_type": "execute_result"
    }
   ],
   "source": [
    "# can include only tags with more than 10 songs: Driving, driving music, driving songs\n",
    "tag = 'driving|roadtrip|drive|road-trip'\n",
    "mask = features.track.tag.str.match(tag,case=False)\n",
    "driving_titles = features[mask]\n",
    "print(driving_titles.shape[0])\n",
    "print(len(driving_titles.track.title.unique()))\n",
    "driving_titles.track.tag.value_counts()"
   ]
  },
  {
   "cell_type": "code",
   "execution_count": 156,
   "metadata": {},
   "outputs": [
    {
     "data": {
      "text/plain": [
       "tag\n",
       "Driving          299\n",
       "driving music     40\n",
       "Driving Songs     11\n",
       "Name: count, dtype: int64"
      ]
     },
     "execution_count": 156,
     "metadata": {},
     "output_type": "execute_result"
    }
   ],
   "source": [
    "tag = r'^driving$|driving music|driving songs'\n",
    "mask = features.track.tag.str.match(tag,case=False)\n",
    "driving_titles = features[mask]\n",
    "driving_titles.track.tag.value_counts()"
   ]
  },
  {
   "cell_type": "markdown",
   "metadata": {},
   "source": [
    "## Work"
   ]
  },
  {
   "cell_type": "code",
   "execution_count": 164,
   "metadata": {},
   "outputs": [
    {
     "name": "stdout",
     "output_type": "stream",
     "text": [
      "310\n",
      "112\n"
     ]
    },
    {
     "data": {
      "text/plain": [
       "tag\n",
       "work                      191\n",
       "focusing                   26\n",
       "no lyrics                  18\n",
       "Studying                   14\n",
       "focused                    14\n",
       "study                      11\n",
       "study music                10\n",
       "study piano                 4\n",
       "Office Music                4\n",
       "Focus                       4\n",
       "Study Background Music      3\n",
       "office                      3\n",
       "study and sleep             2\n",
       "studytime                   2\n",
       "Study Mix                   2\n",
       "StudyMusic                  1\n",
       "study fiona apple           1\n",
       "Name: count, dtype: int64"
      ]
     },
     "execution_count": 164,
     "metadata": {},
     "output_type": "execute_result"
    }
   ],
   "source": [
    "# only include: focusing, studying, focused, study, study music\n",
    "tag = \"focus|study|office|work$|non-vocal|no lyrics\"\n",
    "mask = features.track.tag.str.match(tag,case=False)\n",
    "work_titles = features[mask]\n",
    "print(work_titles.shape[0])\n",
    "print(len(work_titles.track.title.unique()))\n",
    "work_titles.track.tag.value_counts()"
   ]
  },
  {
   "cell_type": "code",
   "execution_count": 108,
   "metadata": {},
   "outputs": [
    {
     "data": {
      "text/plain": [
       "tag\n",
       "work                                   191\n",
       "Workout                                112\n",
       "worktronica                             22\n",
       "work music                              19\n",
       "working music                           14\n",
       "workout songs                           11\n",
       "work tunes                               8\n",
       "Work Mix                                 8\n",
       "workie                                   7\n",
       "workoutdance                             6\n",
       "work hardcore                            6\n",
       "workout tunes                            6\n",
       "work relax                               6\n",
       "working with pixels                      6\n",
       "workin music                             5\n",
       "workout dance                            5\n",
       "Workout music                            5\n",
       "working                                  5\n",
       "workdays                                 4\n",
       "workworkwork                             3\n",
       "Work Toons                               3\n",
       "work songs                               3\n",
       "workforce1                               3\n",
       "working hours                            3\n",
       "work out                                 3\n",
       "WORKIN OVERTIME                          2\n",
       "working class punk                       2\n",
       "work faster                              2\n",
       "work-out voor de haartjes op je arm      2\n",
       "workout mix                              2\n",
       "work soundtrack                          2\n",
       "work out mix                             2\n",
       "work123123                               2\n",
       "Workout Song                             2\n",
       "working music 1                          2\n",
       "Works                                    2\n",
       "Work Day                                 1\n",
       "workHard                                 1\n",
       "work of god                              1\n",
       "worker                                   1\n",
       "working out track                        1\n",
       "work and study                           1\n",
       "worknight                                1\n",
       "work sucks                               1\n",
       "work zone                                1\n",
       "Work-Focus-Music                         1\n",
       "work stress buster                       1\n",
       "workout track                            1\n",
       "workout trance                           1\n",
       "Working out                              1\n",
       "work out music                           1\n",
       "Name: count, dtype: int64"
      ]
     },
     "execution_count": 108,
     "metadata": {},
     "output_type": "execute_result"
    }
   ],
   "source": [
    "# only include: work, work music, working music\n",
    "tag = \"work\"\n",
    "mask = features.track.tag.str.match(tag,case=False)\n",
    "work_titles = features[mask]\n",
    "work_titles.track.tag.value_counts()"
   ]
  },
  {
   "cell_type": "code",
   "execution_count": 158,
   "metadata": {},
   "outputs": [
    {
     "data": {
      "text/plain": [
       "tag\n",
       "work             191\n",
       "focusing          26\n",
       "work music        19\n",
       "Studying          14\n",
       "working music     14\n",
       "focused           14\n",
       "study             11\n",
       "study music       10\n",
       "Name: count, dtype: int64"
      ]
     },
     "execution_count": 158,
     "metadata": {},
     "output_type": "execute_result"
    }
   ],
   "source": [
    "# only include: focusing, studying, focused, study, study music\n",
    "tag = r\"focusing|studying|focused|^study$|^study music$|^work$|^working music$|^work music$\"\n",
    "mask = features.track.tag.str.match(tag,case=False)\n",
    "work_titles = features[mask]\n",
    "work_titles.track.tag.value_counts()"
   ]
  },
  {
   "cell_type": "markdown",
   "metadata": {},
   "source": [
    "## Final Tags"
   ]
  },
  {
   "cell_type": "code",
   "execution_count": 179,
   "metadata": {},
   "outputs": [],
   "source": [
    "#v5\n",
    "# relax_tag = \"sitting|lying\"\n",
    "# light_act_tag = \"standing|walking\"\n",
    "# chores_tag = \"cleaning|chores|housework\"\n",
    "# exercise_tag = r\"^workout$|^running$|^workout songs$|gym|exercise\"\n",
    "# driving_tag = r'^driving$|driving music|driving songs|road trip|roadtrip'\n",
    "# work_tag = r\"focusing|studying|focused|^study$|^study music$|^work$|^working music$|^work music$\"\n",
    "\n",
    "#v6\n",
    "relax_tag = \"lying|sitting|relaxing\"\n",
    "light_act_tag = \"standing|walking|walk\"\n",
    "chores_tag = \"cleaning|chores|housework|clean\"\n",
    "exercise_tag = \"workout|running|gym|exercise\"\n",
    "driving_tag = \"driving\"\n",
    "work_tag = \"focus|study|office|work$\"\n",
    "\n",
    "#v7\n",
    "relax_tag = \"lying|sitting|relaxing\"\n",
    "chores_tag = \"cleaning|chores|housework|clean\"\n",
    "exercise_tag = \"workout|running|gym|exercise|work-out|working out|exercising|jogging|fitness|cardio\"\n",
    "driving_tag = 'driving|roadtrip|drive|road-trip'\n",
    "work_tag = \"focus|study|office|work$|non-vocal|no lyrics\""
   ]
  },
  {
   "cell_type": "code",
   "execution_count": 180,
   "metadata": {},
   "outputs": [],
   "source": [
    "relax_mask = features.track.tag.str.match(relax_tag,case=False)\n",
    "#light_act_mask = features.track.tag.str.match(light_act_tag,case=False) remove by v7\n",
    "chores_mask = features.track.tag.str.match(chores_tag,case=False)\n",
    "exercise_mask = features.track.tag.str.match(exercise_tag,case=False)\n",
    "driving_mask = features.track.tag.str.match(driving_tag,case=False)\n",
    "work_mask = features.track.tag.str.match(work_tag,case=False)\n"
   ]
  },
  {
   "cell_type": "code",
   "execution_count": 181,
   "metadata": {},
   "outputs": [
    {
     "data": {
      "text/plain": [
       "tag_cluster\n",
       "0    576427\n",
       "1       912\n",
       "4       577\n",
       "5       310\n",
       "3       274\n",
       "2       118\n",
       "Name: count, dtype: int64"
      ]
     },
     "execution_count": 181,
     "metadata": {},
     "output_type": "execute_result"
    }
   ],
   "source": [
    "condlist = [relax_mask,chores_mask,exercise_mask,driving_mask,work_mask]\n",
    "choicelist = [1,2,3,4,5,]\n",
    "features['track','tag_cluster'] = np.select(condlist,choicelist,0)\n",
    "features.track.tag_cluster.value_counts()"
   ]
  },
  {
   "cell_type": "code",
   "execution_count": 182,
   "metadata": {},
   "outputs": [],
   "source": [
    "songs_w_tag_cluster = features[features['track','tag_cluster'] != 0] "
   ]
  },
  {
   "cell_type": "code",
   "execution_count": 183,
   "metadata": {},
   "outputs": [
    {
     "data": {
      "text/plain": [
       "tag_cluster\n",
       "1    912\n",
       "4    577\n",
       "5    310\n",
       "3    274\n",
       "2    118\n",
       "Name: count, dtype: int64"
      ]
     },
     "execution_count": 183,
     "metadata": {},
     "output_type": "execute_result"
    }
   ],
   "source": [
    "songs_w_tag_cluster.track.tag_cluster.value_counts()"
   ]
  },
  {
   "cell_type": "code",
   "execution_count": 184,
   "metadata": {},
   "outputs": [],
   "source": [
    "songs_w_tag_cluster.to_parquet('../../data/features/featuresv7_w_tagclusters.parquet')"
   ]
  },
  {
   "cell_type": "code",
   "execution_count": 178,
   "metadata": {},
   "outputs": [],
   "source": [
    "#songs_w_tag_cluster.track.tag_cluster.value_counts()"
   ]
  }
 ],
 "metadata": {
  "kernelspec": {
   "display_name": "Python 3",
   "language": "python",
   "name": "python3"
  },
  "language_info": {
   "codemirror_mode": {
    "name": "ipython",
    "version": 3
   },
   "file_extension": ".py",
   "mimetype": "text/x-python",
   "name": "python",
   "nbconvert_exporter": "python",
   "pygments_lexer": "ipython3",
   "version": "3.9.0"
  }
 },
 "nbformat": 4,
 "nbformat_minor": 2
}
