{
 "cells": [
  {
   "cell_type": "code",
   "execution_count": 1,
   "metadata": {},
   "outputs": [],
   "source": [
    "import pandas as pd\n",
    "import numpy as np"
   ]
  },
  {
   "cell_type": "code",
   "execution_count": 2,
   "metadata": {},
   "outputs": [],
   "source": [
    "## Data File Path\n",
    "FEATURES_PARQUET  = '../../data/features/featuresv2.parquet'"
   ]
  },
  {
   "cell_type": "code",
   "execution_count": 3,
   "metadata": {},
   "outputs": [
    {
     "data": {
      "text/html": [
       "<div>\n",
       "<style scoped>\n",
       "    .dataframe tbody tr th:only-of-type {\n",
       "        vertical-align: middle;\n",
       "    }\n",
       "\n",
       "    .dataframe tbody tr th {\n",
       "        vertical-align: top;\n",
       "    }\n",
       "\n",
       "    .dataframe thead tr th {\n",
       "        text-align: left;\n",
       "    }\n",
       "</style>\n",
       "<table border=\"1\" class=\"dataframe\">\n",
       "  <thead>\n",
       "    <tr>\n",
       "      <th></th>\n",
       "      <th>track_id</th>\n",
       "      <th colspan=\"8\" halign=\"left\">audio_features</th>\n",
       "      <th>metadata</th>\n",
       "      <th>...</th>\n",
       "      <th colspan=\"10\" halign=\"left\">track</th>\n",
       "    </tr>\n",
       "    <tr>\n",
       "      <th></th>\n",
       "      <th></th>\n",
       "      <th>acousticness</th>\n",
       "      <th>danceability</th>\n",
       "      <th>energy</th>\n",
       "      <th>instrumentalness</th>\n",
       "      <th>liveness</th>\n",
       "      <th>speechiness</th>\n",
       "      <th>tempo</th>\n",
       "      <th>valence</th>\n",
       "      <th>album_date</th>\n",
       "      <th>...</th>\n",
       "      <th>license</th>\n",
       "      <th>listens</th>\n",
       "      <th>lyricist</th>\n",
       "      <th>number</th>\n",
       "      <th>publisher</th>\n",
       "      <th>tags</th>\n",
       "      <th>title</th>\n",
       "      <th>tid</th>\n",
       "      <th>artist</th>\n",
       "      <th>tag</th>\n",
       "    </tr>\n",
       "  </thead>\n",
       "  <tbody>\n",
       "    <tr>\n",
       "      <th>0</th>\n",
       "      <td>2</td>\n",
       "      <td>0.416675</td>\n",
       "      <td>0.675894</td>\n",
       "      <td>0.634476</td>\n",
       "      <td>0.010628</td>\n",
       "      <td>0.177647</td>\n",
       "      <td>0.159310</td>\n",
       "      <td>165.922</td>\n",
       "      <td>0.576661</td>\n",
       "      <td>None</td>\n",
       "      <td>...</td>\n",
       "      <td>Attribution-NonCommercial-ShareAlike 3.0 Inter...</td>\n",
       "      <td>1293</td>\n",
       "      <td>None</td>\n",
       "      <td>3</td>\n",
       "      <td>None</td>\n",
       "      <td>[]</td>\n",
       "      <td>Food</td>\n",
       "      <td>TREKAFR128F933C68D</td>\n",
       "      <td>The Pursuit of Happiness</td>\n",
       "      <td>the word food</td>\n",
       "    </tr>\n",
       "    <tr>\n",
       "      <th>1</th>\n",
       "      <td>2</td>\n",
       "      <td>0.416675</td>\n",
       "      <td>0.675894</td>\n",
       "      <td>0.634476</td>\n",
       "      <td>0.010628</td>\n",
       "      <td>0.177647</td>\n",
       "      <td>0.159310</td>\n",
       "      <td>165.922</td>\n",
       "      <td>0.576661</td>\n",
       "      <td>None</td>\n",
       "      <td>...</td>\n",
       "      <td>Attribution-NonCommercial-ShareAlike 3.0 Inter...</td>\n",
       "      <td>1293</td>\n",
       "      <td>None</td>\n",
       "      <td>3</td>\n",
       "      <td>None</td>\n",
       "      <td>[]</td>\n",
       "      <td>Food</td>\n",
       "      <td>TRTFHLV128F422C0D1</td>\n",
       "      <td>Zico Chain</td>\n",
       "      <td>Post Grunge</td>\n",
       "    </tr>\n",
       "    <tr>\n",
       "      <th>2</th>\n",
       "      <td>107996</td>\n",
       "      <td>0.941069</td>\n",
       "      <td>0.712837</td>\n",
       "      <td>0.287110</td>\n",
       "      <td>0.020498</td>\n",
       "      <td>0.088466</td>\n",
       "      <td>0.038736</td>\n",
       "      <td>136.097</td>\n",
       "      <td>0.338812</td>\n",
       "      <td>None</td>\n",
       "      <td>...</td>\n",
       "      <td>Creative Commons Attribution-NonCommercial-NoD...</td>\n",
       "      <td>3889</td>\n",
       "      <td>None</td>\n",
       "      <td>12</td>\n",
       "      <td>None</td>\n",
       "      <td>[]</td>\n",
       "      <td>Food</td>\n",
       "      <td>TREKAFR128F933C68D</td>\n",
       "      <td>The Pursuit of Happiness</td>\n",
       "      <td>the word food</td>\n",
       "    </tr>\n",
       "    <tr>\n",
       "      <th>3</th>\n",
       "      <td>107996</td>\n",
       "      <td>0.941069</td>\n",
       "      <td>0.712837</td>\n",
       "      <td>0.287110</td>\n",
       "      <td>0.020498</td>\n",
       "      <td>0.088466</td>\n",
       "      <td>0.038736</td>\n",
       "      <td>136.097</td>\n",
       "      <td>0.338812</td>\n",
       "      <td>None</td>\n",
       "      <td>...</td>\n",
       "      <td>Creative Commons Attribution-NonCommercial-NoD...</td>\n",
       "      <td>3889</td>\n",
       "      <td>None</td>\n",
       "      <td>12</td>\n",
       "      <td>None</td>\n",
       "      <td>[]</td>\n",
       "      <td>Food</td>\n",
       "      <td>TRTFHLV128F422C0D1</td>\n",
       "      <td>Zico Chain</td>\n",
       "      <td>Post Grunge</td>\n",
       "    </tr>\n",
       "    <tr>\n",
       "      <th>4</th>\n",
       "      <td>5</td>\n",
       "      <td>0.043567</td>\n",
       "      <td>0.745566</td>\n",
       "      <td>0.701470</td>\n",
       "      <td>0.000697</td>\n",
       "      <td>0.373143</td>\n",
       "      <td>0.124595</td>\n",
       "      <td>100.260</td>\n",
       "      <td>0.621661</td>\n",
       "      <td>None</td>\n",
       "      <td>...</td>\n",
       "      <td>Attribution-NonCommercial-ShareAlike 3.0 Inter...</td>\n",
       "      <td>1151</td>\n",
       "      <td>None</td>\n",
       "      <td>6</td>\n",
       "      <td>None</td>\n",
       "      <td>[]</td>\n",
       "      <td>This World</td>\n",
       "      <td>TRCZHBU12903D0B40B</td>\n",
       "      <td>Mind Reflection</td>\n",
       "      <td>THIS WORLD</td>\n",
       "    </tr>\n",
       "  </tbody>\n",
       "</table>\n",
       "<p>5 rows × 305 columns</p>\n",
       "</div>"
      ],
      "text/plain": [
       "  track_id audio_features                                                     \n",
       "             acousticness danceability    energy instrumentalness  liveness   \n",
       "0        2       0.416675     0.675894  0.634476         0.010628  0.177647  \\\n",
       "1        2       0.416675     0.675894  0.634476         0.010628  0.177647   \n",
       "2   107996       0.941069     0.712837  0.287110         0.020498  0.088466   \n",
       "3   107996       0.941069     0.712837  0.287110         0.020498  0.088466   \n",
       "4        5       0.043567     0.745566  0.701470         0.000697  0.373143   \n",
       "\n",
       "                                   metadata  ...   \n",
       "  speechiness    tempo   valence album_date  ...   \n",
       "0    0.159310  165.922  0.576661       None  ...  \\\n",
       "1    0.159310  165.922  0.576661       None  ...   \n",
       "2    0.038736  136.097  0.338812       None  ...   \n",
       "3    0.038736  136.097  0.338812       None  ...   \n",
       "4    0.124595  100.260  0.621661       None  ...   \n",
       "\n",
       "                                               track                           \n",
       "                                             license listens lyricist number   \n",
       "0  Attribution-NonCommercial-ShareAlike 3.0 Inter...    1293     None      3  \\\n",
       "1  Attribution-NonCommercial-ShareAlike 3.0 Inter...    1293     None      3   \n",
       "2  Creative Commons Attribution-NonCommercial-NoD...    3889     None     12   \n",
       "3  Creative Commons Attribution-NonCommercial-NoD...    3889     None     12   \n",
       "4  Attribution-NonCommercial-ShareAlike 3.0 Inter...    1151     None      6   \n",
       "\n",
       "                                                                             \n",
       "  publisher tags       title                 tid                    artist   \n",
       "0      None   []        Food  TREKAFR128F933C68D  The Pursuit of Happiness  \\\n",
       "1      None   []        Food  TRTFHLV128F422C0D1                Zico Chain   \n",
       "2      None   []        Food  TREKAFR128F933C68D  The Pursuit of Happiness   \n",
       "3      None   []        Food  TRTFHLV128F422C0D1                Zico Chain   \n",
       "4      None   []  This World  TRCZHBU12903D0B40B           Mind Reflection   \n",
       "\n",
       "                  \n",
       "             tag  \n",
       "0  the word food  \n",
       "1    Post Grunge  \n",
       "2  the word food  \n",
       "3    Post Grunge  \n",
       "4     THIS WORLD  \n",
       "\n",
       "[5 rows x 305 columns]"
      ]
     },
     "execution_count": 3,
     "metadata": {},
     "output_type": "execute_result"
    }
   ],
   "source": [
    "features = pd.read_parquet(FEATURES_PARQUET)\n",
    "features.head()"
   ]
  },
  {
   "cell_type": "code",
   "execution_count": 10,
   "metadata": {},
   "outputs": [
    {
     "data": {
      "text/plain": [
       "MultiIndex([(      'track_id',                 ''),\n",
       "            ('audio_features',     'acousticness'),\n",
       "            ('audio_features',     'danceability'),\n",
       "            ('audio_features',           'energy'),\n",
       "            ('audio_features', 'instrumentalness'),\n",
       "            ('audio_features',         'liveness'),\n",
       "            ('audio_features',      'speechiness'),\n",
       "            ('audio_features',            'tempo'),\n",
       "            ('audio_features',          'valence'),\n",
       "            (      'metadata',       'album_date'),\n",
       "            ...\n",
       "            (         'track',          'license'),\n",
       "            (         'track',          'listens'),\n",
       "            (         'track',         'lyricist'),\n",
       "            (         'track',           'number'),\n",
       "            (         'track',        'publisher'),\n",
       "            (         'track',             'tags'),\n",
       "            (         'track',            'title'),\n",
       "            (         'track',              'tid'),\n",
       "            (         'track',           'artist'),\n",
       "            (         'track',              'tag')],\n",
       "           length=305)"
      ]
     },
     "execution_count": 10,
     "metadata": {},
     "output_type": "execute_result"
    }
   ],
   "source": [
    "features.columns"
   ]
  },
  {
   "cell_type": "code",
   "execution_count": 11,
   "metadata": {},
   "outputs": [
    {
     "data": {
      "text/plain": [
       "Index(['album', 'artist', 'audio_features', 'metadata', 'ranks', 'set',\n",
       "       'social_features', 'temporal_features', 'track', 'track_id'],\n",
       "      dtype='object')"
      ]
     },
     "execution_count": 11,
     "metadata": {},
     "output_type": "execute_result"
    }
   ],
   "source": [
    "features.columns.levels[0]"
   ]
  },
  {
   "cell_type": "markdown",
   "metadata": {},
   "source": [
    "# Physical Activities\n",
    "\n",
    "We need to select the relevant tags for these physical activities:\n",
    "\n",
    "1 – lying \\\n",
    "2 – sitting \\\n",
    "3 – standing \\\n",
    "4 – walking \\\n",
    "5 – running \\\n",
    "6 – cycling \\\n",
    "7 – Nordic walking \\\n",
    "9 – watching TV \\\n",
    "10 – computer work \\\n",
    "11 – car driving \\\n",
    "12 – ascending stairs \\\n",
    "13 – descending stairs \\\n",
    "16 – vacuum cleaning \\\n",
    "17 – ironing \\\n",
    "18 – folding laundry \\\n",
    "19 – house cleaning \\\n",
    "20 – playing soccer \\\n",
    "24 – rope jumping"
   ]
  },
  {
   "cell_type": "markdown",
   "metadata": {},
   "source": [
    "Some of these activities require the same energy level and mental demand so music recommendation can be the same for some activities. A possible clustering could be:\n",
    "\n",
    "CAN POSSIBLY MAKE A CLUSTERING ALGO FOR THE DATA\n",
    "\n",
    "Cluster 1: Relaxation and Meditation\n",
    "\n",
    "lying \\\n",
    "sitting \\\n",
    "standing \\\n",
    "walking \\\n",
    "Nordic walking \\\n",
    "ascending stairs \\\n",
    "descending stairs \\\n",
    "watching TV (doesn't need a music recommendation anymore) ---- \n",
    "\n",
    "\n",
    "Cluster 2: Focus and Attention\n",
    "\n",
    "computer work \\\n",
    "car driving\n",
    "\n",
    "\n",
    "Cluster 3: Physical Activity\n",
    "\n",
    "vacuum cleaning \\\n",
    "ironing \\\n",
    "folding laundry \\\n",
    "house cleaning \\\n",
    "playing soccer \\\n",
    "cycling \\\n",
    "running \\\n",
    "rope jumping\n",
    "\n",
    "\n",
    "\n",
    "\n"
   ]
  },
  {
   "cell_type": "markdown",
   "metadata": {},
   "source": [
    "# Tag Selection\n",
    "\n",
    "Now we aim to identify the relevant tags"
   ]
  },
  {
   "cell_type": "code",
   "execution_count": 140,
   "metadata": {},
   "outputs": [
    {
     "data": {
      "text/html": [
       "<div>\n",
       "<style scoped>\n",
       "    .dataframe tbody tr th:only-of-type {\n",
       "        vertical-align: middle;\n",
       "    }\n",
       "\n",
       "    .dataframe tbody tr th {\n",
       "        vertical-align: top;\n",
       "    }\n",
       "\n",
       "    .dataframe thead th {\n",
       "        text-align: right;\n",
       "    }\n",
       "</style>\n",
       "<table border=\"1\" class=\"dataframe\">\n",
       "  <thead>\n",
       "    <tr style=\"text-align: right;\">\n",
       "      <th></th>\n",
       "      <th>tag</th>\n",
       "      <th>count</th>\n",
       "    </tr>\n",
       "  </thead>\n",
       "  <tbody>\n",
       "    <tr>\n",
       "      <th>0</th>\n",
       "      <td>rock</td>\n",
       "      <td>6643</td>\n",
       "    </tr>\n",
       "    <tr>\n",
       "      <th>1</th>\n",
       "      <td>pop</td>\n",
       "      <td>4741</td>\n",
       "    </tr>\n",
       "    <tr>\n",
       "      <th>2</th>\n",
       "      <td>alternative</td>\n",
       "      <td>4179</td>\n",
       "    </tr>\n",
       "    <tr>\n",
       "      <th>3</th>\n",
       "      <td>electronic</td>\n",
       "      <td>3511</td>\n",
       "    </tr>\n",
       "    <tr>\n",
       "      <th>4</th>\n",
       "      <td>indie</td>\n",
       "      <td>3168</td>\n",
       "    </tr>\n",
       "    <tr>\n",
       "      <th>...</th>\n",
       "      <td>...</td>\n",
       "      <td>...</td>\n",
       "    </tr>\n",
       "    <tr>\n",
       "      <th>70534</th>\n",
       "      <td>StudyMusic</td>\n",
       "      <td>1</td>\n",
       "    </tr>\n",
       "    <tr>\n",
       "      <th>70535</th>\n",
       "      <td>malcolm</td>\n",
       "      <td>1</td>\n",
       "    </tr>\n",
       "    <tr>\n",
       "      <th>70536</th>\n",
       "      <td>lifehouse storm</td>\n",
       "      <td>1</td>\n",
       "    </tr>\n",
       "    <tr>\n",
       "      <th>70537</th>\n",
       "      <td>calmative</td>\n",
       "      <td>1</td>\n",
       "    </tr>\n",
       "    <tr>\n",
       "      <th>70538</th>\n",
       "      <td>moving out</td>\n",
       "      <td>1</td>\n",
       "    </tr>\n",
       "  </tbody>\n",
       "</table>\n",
       "<p>70539 rows × 2 columns</p>\n",
       "</div>"
      ],
      "text/plain": [
       "                   tag  count\n",
       "0                 rock   6643\n",
       "1                  pop   4741\n",
       "2          alternative   4179\n",
       "3           electronic   3511\n",
       "4                indie   3168\n",
       "...                ...    ...\n",
       "70534       StudyMusic      1\n",
       "70535          malcolm      1\n",
       "70536  lifehouse storm      1\n",
       "70537        calmative      1\n",
       "70538       moving out      1\n",
       "\n",
       "[70539 rows x 2 columns]"
      ]
     },
     "execution_count": 140,
     "metadata": {},
     "output_type": "execute_result"
    }
   ],
   "source": [
    "unique_tags = features.track.tag.value_counts().reset_index().rename(columns={\"index\": \"value\", 0: \"count\"})\n",
    "unique_tags"
   ]
  },
  {
   "cell_type": "markdown",
   "metadata": {},
   "source": [
    "## Relaxing Activities"
   ]
  },
  {
   "cell_type": "code",
   "execution_count": 63,
   "metadata": {},
   "outputs": [
    {
     "data": {
      "text/plain": [
       "tag\n",
       "sittinginmyroom                                      3\n",
       "lying next to you                                    3\n",
       "lying down cross your lap                            2\n",
       "lying on the floor                                   2\n",
       "lying                                                2\n",
       "lying at the beach and listen to                     2\n",
       "lying in bed on a Sunday afternoon                   1\n",
       "lying on a beach at night and gazing at the stars    1\n",
       "sitting on a split rail fence                        1\n",
       "sitting on the grass and staring at clouds           1\n",
       "lying in the sun                                     1\n",
       "lying in the grass                                   1\n",
       "Name: count, dtype: int64"
      ]
     },
     "execution_count": 63,
     "metadata": {},
     "output_type": "execute_result"
    }
   ],
   "source": [
    "tag = \"sitting|lying\"\n",
    "mask = features.track.tag.str.match(tag,case=False)\n",
    "relaxing_titles = features[mask]\n",
    "relaxing_titles.track.tag.value_counts()"
   ]
  },
  {
   "cell_type": "code",
   "execution_count": 6,
   "metadata": {},
   "outputs": [
    {
     "data": {
      "text/plain": [
       "tag\n",
       "chillout                   2364\n",
       "chill                      1849\n",
       "relax                       839\n",
       "relaxing                    721\n",
       "chill out                   341\n",
       "                           ... \n",
       "relaxing calm and fresh       1\n",
       "relaxed afternoon             1\n",
       "chillout dnb                  1\n",
       "relaxxxxxx                    1\n",
       "chillout seen live            1\n",
       "Name: count, Length: 291, dtype: int64"
      ]
     },
     "execution_count": 6,
     "metadata": {},
     "output_type": "execute_result"
    }
   ],
   "source": [
    "tag = \"chill|relax\"\n",
    "mask = features.track.tag.str.match(tag,case=False)\n",
    "relaxing_titles = features[mask]\n",
    "relaxing_titles.track.tag.value_counts()"
   ]
  },
  {
   "cell_type": "markdown",
   "metadata": {},
   "source": [
    "## Light Activities"
   ]
  },
  {
   "cell_type": "code",
   "execution_count": 71,
   "metadata": {},
   "outputs": [
    {
     "data": {
      "text/plain": [
       "tag\n",
       "Walking down the street smilin                          8\n",
       "Walking tunes                                           7\n",
       "walking to                                              6\n",
       "Walking in the streets                                  5\n",
       "walking blues                                           4\n",
       "walking songs                                           3\n",
       "walking                                                 3\n",
       "walking song                                            2\n",
       "walking the streets at night with your headphones on    2\n",
       "standing tone                                           2\n",
       "walking home alone                                      2\n",
       "standing at the beach                                   2\n",
       "walking to the east river on a cloudy day               1\n",
       "walking away                                            1\n",
       "walking through rain                                    1\n",
       "Walking on Sunshine                                     1\n",
       "Name: count, dtype: int64"
      ]
     },
     "execution_count": 71,
     "metadata": {},
     "output_type": "execute_result"
    }
   ],
   "source": [
    "tag = \"standing|walking\"\n",
    "mask = features.track.tag.str.match(tag,case=False)\n",
    "light_acts_titles = features[mask]\n",
    "light_acts_titles.track.tag.value_counts()"
   ]
  },
  {
   "cell_type": "markdown",
   "metadata": {},
   "source": [
    "## Chores"
   ]
  },
  {
   "cell_type": "code",
   "execution_count": 127,
   "metadata": {},
   "outputs": [
    {
     "data": {
      "text/plain": [
       "tag\n",
       "Cleaning mood       16\n",
       "Cleaning Day lol     4\n",
       "cleaning             3\n",
       "cleaninghouse        1\n",
       "Name: count, dtype: int64"
      ]
     },
     "execution_count": 127,
     "metadata": {},
     "output_type": "execute_result"
    }
   ],
   "source": [
    "tag = \"cleaning\"\n",
    "mask = features.track.tag.str.match(tag,case=False)\n",
    "chores_titles = features[mask]\n",
    "chores_titles.track.tag.value_counts()"
   ]
  },
  {
   "cell_type": "code",
   "execution_count": null,
   "metadata": {},
   "outputs": [],
   "source": []
  },
  {
   "cell_type": "markdown",
   "metadata": {},
   "source": [
    "## Exercise"
   ]
  },
  {
   "cell_type": "code",
   "execution_count": 128,
   "metadata": {},
   "outputs": [
    {
     "data": {
      "text/plain": [
       "tag\n",
       "Workout                                       112\n",
       "running                                        44\n",
       "workout songs                                  11\n",
       "running eyes                                   10\n",
       "workoutdance                                    6\n",
       "workout tunes                                   6\n",
       "running down hills and dancing in the rain      5\n",
       "Workout music                                   5\n",
       "workout dance                                   5\n",
       "running out of the church                       4\n",
       "running music                                   4\n",
       "running in circles                              2\n",
       "running away                                    2\n",
       "workout mix                                     2\n",
       "Workout Song                                    2\n",
       "Running Wild                                    1\n",
       "workout trance                                  1\n",
       "Running by NoDoubt                              1\n",
       "workout track                                   1\n",
       "running mix                                     1\n",
       "running with scissors                           1\n",
       "Name: count, dtype: int64"
      ]
     },
     "execution_count": 128,
     "metadata": {},
     "output_type": "execute_result"
    }
   ],
   "source": [
    "# only include tags with more than 10 songs: workout, running, workout songs\n",
    "tag = \"workout|running\"\n",
    "mask = features.track.tag.str.match(tag,case=False)\n",
    "exercise_titles = features[mask]\n",
    "exercise_titles.track.tag.value_counts()"
   ]
  },
  {
   "cell_type": "code",
   "execution_count": 159,
   "metadata": {},
   "outputs": [
    {
     "data": {
      "text/plain": [
       "tag\n",
       "Workout          112\n",
       "running           44\n",
       "workout songs     11\n",
       "Name: count, dtype: int64"
      ]
     },
     "execution_count": 159,
     "metadata": {},
     "output_type": "execute_result"
    }
   ],
   "source": [
    "# only include tags with more than 10 songs: workout, running, workout songs\n",
    "tag = r\"^workout$|^running$|^workout songs$\"\n",
    "mask = features.track.tag.str.match(tag,case=False)\n",
    "exercise_titles = features[mask]\n",
    "exercise_titles.track.tag.value_counts()"
   ]
  },
  {
   "cell_type": "markdown",
   "metadata": {},
   "source": [
    "## Driving"
   ]
  },
  {
   "cell_type": "code",
   "execution_count": 155,
   "metadata": {},
   "outputs": [
    {
     "data": {
      "text/plain": [
       "tag\n",
       "Driving                                            299\n",
       "driving music                                       40\n",
       "Driving Songs                                       11\n",
       "Driving mood                                         9\n",
       "driving at night                                     7\n",
       "Driving fast and hard                                6\n",
       "Driving Tunes                                        6\n",
       "driving song                                         6\n",
       "driving alone                                        5\n",
       "driving in the rain                                  5\n",
       "driving with the windows down on a breezy night      4\n",
       "driving theme                                        4\n",
       "driving around in a 1984 chevy cavalier in 2003      4\n",
       "driving alone montage                                4\n",
       "driving percussion  styling vocal                    4\n",
       "driving away                                         3\n",
       "driving with the windows down                        3\n",
       "driving tune                                         3\n",
       "driving fast                                         2\n",
       "Driving in your car                                  2\n",
       "driving rock                                         2\n",
       "driving in dusk                                      2\n",
       "driving fast with the windows down                   2\n",
       "driving in my car                                    2\n",
       "drivingmusic                                         1\n",
       "driving song to disco to driving song                1\n",
       "driving a hovercar through space dust                1\n",
       "driving by night                                     1\n",
       "Driving East                                         1\n",
       "Driving Time Music                                   1\n",
       "driving rhymth                                       1\n",
       "driving home                                         1\n",
       "driving in-city music                                1\n",
       "driving progressive trance                           1\n",
       "driving alone in the night                           1\n",
       "driving-music loud                                   1\n",
       "driving down the interstate                          1\n",
       "driving at night in the eighties                     1\n",
       "driving ost                                          1\n",
       "driving high at night                                1\n",
       "driving on a summer night                            1\n",
       "Name: count, dtype: int64"
      ]
     },
     "execution_count": 155,
     "metadata": {},
     "output_type": "execute_result"
    }
   ],
   "source": [
    "# can include only tags with more than 10 songs: Driving, driving music, driving songs\n",
    "tag = 'driving'\n",
    "mask = features.track.tag.str.match(tag,case=False)\n",
    "driving_titles = features[mask]\n",
    "driving_titles.track.tag.value_counts()"
   ]
  },
  {
   "cell_type": "code",
   "execution_count": 156,
   "metadata": {},
   "outputs": [
    {
     "data": {
      "text/plain": [
       "tag\n",
       "Driving          299\n",
       "driving music     40\n",
       "Driving Songs     11\n",
       "Name: count, dtype: int64"
      ]
     },
     "execution_count": 156,
     "metadata": {},
     "output_type": "execute_result"
    }
   ],
   "source": [
    "tag = r'^driving$|driving music|driving songs'\n",
    "mask = features.track.tag.str.match(tag,case=False)\n",
    "driving_titles = features[mask]\n",
    "driving_titles.track.tag.value_counts()"
   ]
  },
  {
   "cell_type": "markdown",
   "metadata": {},
   "source": [
    "## Work"
   ]
  },
  {
   "cell_type": "code",
   "execution_count": 115,
   "metadata": {},
   "outputs": [
    {
     "data": {
      "text/plain": [
       "tag\n",
       "focusing                  26\n",
       "Studying                  14\n",
       "focused                   14\n",
       "study                     11\n",
       "study music               10\n",
       "study piano                4\n",
       "Focus                      4\n",
       "Study Background Music     3\n",
       "study and sleep            2\n",
       "studytime                  2\n",
       "Study Mix                  2\n",
       "StudyMusic                 1\n",
       "study fiona apple          1\n",
       "Name: count, dtype: int64"
      ]
     },
     "execution_count": 115,
     "metadata": {},
     "output_type": "execute_result"
    }
   ],
   "source": [
    "# only include: focusing, studying, focused, study, study music\n",
    "tag = \"focus|study\"\n",
    "mask = features.track.tag.str.match(tag,case=False)\n",
    "work_titles = features[mask]\n",
    "work_titles.track.tag.value_counts()"
   ]
  },
  {
   "cell_type": "code",
   "execution_count": 108,
   "metadata": {},
   "outputs": [
    {
     "data": {
      "text/plain": [
       "tag\n",
       "work                                   191\n",
       "Workout                                112\n",
       "worktronica                             22\n",
       "work music                              19\n",
       "working music                           14\n",
       "workout songs                           11\n",
       "work tunes                               8\n",
       "Work Mix                                 8\n",
       "workie                                   7\n",
       "workoutdance                             6\n",
       "work hardcore                            6\n",
       "workout tunes                            6\n",
       "work relax                               6\n",
       "working with pixels                      6\n",
       "workin music                             5\n",
       "workout dance                            5\n",
       "Workout music                            5\n",
       "working                                  5\n",
       "workdays                                 4\n",
       "workworkwork                             3\n",
       "Work Toons                               3\n",
       "work songs                               3\n",
       "workforce1                               3\n",
       "working hours                            3\n",
       "work out                                 3\n",
       "WORKIN OVERTIME                          2\n",
       "working class punk                       2\n",
       "work faster                              2\n",
       "work-out voor de haartjes op je arm      2\n",
       "workout mix                              2\n",
       "work soundtrack                          2\n",
       "work out mix                             2\n",
       "work123123                               2\n",
       "Workout Song                             2\n",
       "working music 1                          2\n",
       "Works                                    2\n",
       "Work Day                                 1\n",
       "workHard                                 1\n",
       "work of god                              1\n",
       "worker                                   1\n",
       "working out track                        1\n",
       "work and study                           1\n",
       "worknight                                1\n",
       "work sucks                               1\n",
       "work zone                                1\n",
       "Work-Focus-Music                         1\n",
       "work stress buster                       1\n",
       "workout track                            1\n",
       "workout trance                           1\n",
       "Working out                              1\n",
       "work out music                           1\n",
       "Name: count, dtype: int64"
      ]
     },
     "execution_count": 108,
     "metadata": {},
     "output_type": "execute_result"
    }
   ],
   "source": [
    "# only include: work, work music, working music\n",
    "tag = \"work\"\n",
    "mask = features.track.tag.str.match(tag,case=False)\n",
    "work_titles = features[mask]\n",
    "work_titles.track.tag.value_counts()"
   ]
  },
  {
   "cell_type": "code",
   "execution_count": 158,
   "metadata": {},
   "outputs": [
    {
     "data": {
      "text/plain": [
       "tag\n",
       "work             191\n",
       "focusing          26\n",
       "work music        19\n",
       "Studying          14\n",
       "working music     14\n",
       "focused           14\n",
       "study             11\n",
       "study music       10\n",
       "Name: count, dtype: int64"
      ]
     },
     "execution_count": 158,
     "metadata": {},
     "output_type": "execute_result"
    }
   ],
   "source": [
    "# only include: focusing, studying, focused, study, study music\n",
    "tag = r\"focusing|studying|focused|^study$|^study music$|^work$|^working music$|^work music$\"\n",
    "mask = features.track.tag.str.match(tag,case=False)\n",
    "work_titles = features[mask]\n",
    "work_titles.track.tag.value_counts()"
   ]
  },
  {
   "cell_type": "markdown",
   "metadata": {},
   "source": [
    "## Final Tags"
   ]
  },
  {
   "cell_type": "code",
   "execution_count": 160,
   "metadata": {},
   "outputs": [],
   "source": [
    "relax_tag = \"sitting|lying\"\n",
    "light_act_tag = \"standing|walking\"\n",
    "chores_tag = \"cleaning\"\n",
    "exercise_tag = r\"^workout$|^running$|^workout songs$\"\n",
    "driving_tag = r'^driving$|driving music|driving songs'\n",
    "work_tag = r\"focusing|studying|focused|^study$|^study music$|^work$|^working music$|^work music$\""
   ]
  },
  {
   "cell_type": "code",
   "execution_count": 179,
   "metadata": {},
   "outputs": [],
   "source": [
    "relax_mask = features.track.tag.str.match(relax_tag,case=False)\n",
    "light_act_mask = features.track.tag.str.match(light_act_tag,case=False)\n",
    "chores_mask = features.track.tag.str.match(chores_tag,case=False)\n",
    "exercise_mask = features.track.tag.str.match(exercise_tag,case=False)\n",
    "driving_mask = features.track.tag.str.match(driving_tag,case=False)\n",
    "work_mask = features.track.tag.str.match(work_tag,case=False)\n"
   ]
  },
  {
   "cell_type": "code",
   "execution_count": 180,
   "metadata": {},
   "outputs": [
    {
     "data": {
      "text/plain": [
       "tag_cluster\n",
       "0    577708\n",
       "5       350\n",
       "6       299\n",
       "4       167\n",
       "2        50\n",
       "3        24\n",
       "1        20\n",
       "Name: count, dtype: int64"
      ]
     },
     "execution_count": 180,
     "metadata": {},
     "output_type": "execute_result"
    }
   ],
   "source": [
    "condlist = [relax_mask,light_act_mask,chores_mask,exercise_mask,driving_mask,work_mask]\n",
    "choicelist = [1,2,3,4,5,6]\n",
    "features['track','tag_cluster'] = np.select(condlist,choicelist,0)\n",
    "features.track.tag_cluster.value_counts()"
   ]
  },
  {
   "cell_type": "code",
   "execution_count": 182,
   "metadata": {},
   "outputs": [],
   "source": [
    "songs_w_tag_cluster = features[features['track','tag_cluster'] != 0] "
   ]
  },
  {
   "cell_type": "code",
   "execution_count": 185,
   "metadata": {},
   "outputs": [
    {
     "data": {
      "text/plain": [
       "tag_cluster\n",
       "5    350\n",
       "6    299\n",
       "4    167\n",
       "2     50\n",
       "3     24\n",
       "1     20\n",
       "Name: count, dtype: int64"
      ]
     },
     "execution_count": 185,
     "metadata": {},
     "output_type": "execute_result"
    }
   ],
   "source": [
    "songs_w_tag_cluster.track.tag_cluster.value_counts()"
   ]
  },
  {
   "cell_type": "code",
   "execution_count": 186,
   "metadata": {},
   "outputs": [],
   "source": [
    "songs_w_tag_cluster.to_parquet('../../data/features/featuresv3_w_tagclusters.parquet')"
   ]
  }
 ],
 "metadata": {
  "kernelspec": {
   "display_name": "Python 3",
   "language": "python",
   "name": "python3"
  },
  "language_info": {
   "codemirror_mode": {
    "name": "ipython",
    "version": 3
   },
   "file_extension": ".py",
   "mimetype": "text/x-python",
   "name": "python",
   "nbconvert_exporter": "python",
   "pygments_lexer": "ipython3",
   "version": "3.11.2"
  }
 },
 "nbformat": 4,
 "nbformat_minor": 2
}
